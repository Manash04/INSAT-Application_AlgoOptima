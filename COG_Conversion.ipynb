{
  "cells": [
    {
      "cell_type": "code",
      "execution_count": null,
      "metadata": {
        "colab": {
          "base_uri": "https://localhost:8080/"
        },
        "id": "e3P7OITfaDBO",
        "outputId": "93f0681a-9f2b-444d-b59f-fff8d000958d"
      },
      "outputs": [
        {
          "output_type": "stream",
          "name": "stdout",
          "text": [
            "Requirement already satisfied: gdal in /usr/local/lib/python3.10/dist-packages (3.6.4)\n"
          ]
        }
      ],
      "source": [
        "!pip install gdal"
      ]
    },
    {
      "cell_type": "code",
      "execution_count": null,
      "metadata": {
        "colab": {
          "base_uri": "https://localhost:8080/"
        },
        "id": "TqnEajUEe4pn",
        "outputId": "92fefc0f-6ff9-4bb2-8197-6740567db6d3"
      },
      "outputs": [
        {
          "output_type": "stream",
          "name": "stdout",
          "text": [
            "Reading package lists... Done\n",
            "Building dependency tree... Done\n",
            "Reading state information... Done\n",
            "Package python-gdal is not available, but is referred to by another package.\n",
            "This may mean that the package is missing, has been obsoleted, or\n",
            "is only available from another source\n",
            "However the following packages replace it:\n",
            "  gdal-bin\n",
            "\n",
            "E: Package 'python-gdal' has no installation candidate\n",
            "Collecting rasterio\n",
            "  Downloading rasterio-1.3.11-cp310-cp310-manylinux_2_17_x86_64.manylinux2014_x86_64.whl.metadata (14 kB)\n",
            "Collecting affine (from rasterio)\n",
            "  Downloading affine-2.4.0-py3-none-any.whl.metadata (4.0 kB)\n",
            "Requirement already satisfied: attrs in /usr/local/lib/python3.10/dist-packages (from rasterio) (24.2.0)\n",
            "Requirement already satisfied: certifi in /usr/local/lib/python3.10/dist-packages (from rasterio) (2024.8.30)\n",
            "Requirement already satisfied: click>=4.0 in /usr/local/lib/python3.10/dist-packages (from rasterio) (8.1.7)\n",
            "Collecting cligj>=0.5 (from rasterio)\n",
            "  Downloading cligj-0.7.2-py3-none-any.whl.metadata (5.0 kB)\n",
            "Requirement already satisfied: numpy in /usr/local/lib/python3.10/dist-packages (from rasterio) (1.26.4)\n",
            "Collecting snuggs>=1.4.1 (from rasterio)\n",
            "  Downloading snuggs-1.4.7-py3-none-any.whl.metadata (3.4 kB)\n",
            "Collecting click-plugins (from rasterio)\n",
            "  Downloading click_plugins-1.1.1-py2.py3-none-any.whl.metadata (6.4 kB)\n",
            "Requirement already satisfied: setuptools in /usr/local/lib/python3.10/dist-packages (from rasterio) (71.0.4)\n",
            "Requirement already satisfied: pyparsing>=2.1.6 in /usr/local/lib/python3.10/dist-packages (from snuggs>=1.4.1->rasterio) (3.1.4)\n",
            "Downloading rasterio-1.3.11-cp310-cp310-manylinux_2_17_x86_64.manylinux2014_x86_64.whl (21.7 MB)\n",
            "\u001b[2K   \u001b[90m━━━━━━━━━━━━━━━━━━━━━━━━━━━━━━━━━━━━━━━━\u001b[0m \u001b[32m21.7/21.7 MB\u001b[0m \u001b[31m31.4 MB/s\u001b[0m eta \u001b[36m0:00:00\u001b[0m\n",
            "\u001b[?25hDownloading cligj-0.7.2-py3-none-any.whl (7.1 kB)\n",
            "Downloading snuggs-1.4.7-py3-none-any.whl (5.4 kB)\n",
            "Downloading affine-2.4.0-py3-none-any.whl (15 kB)\n",
            "Downloading click_plugins-1.1.1-py2.py3-none-any.whl (7.5 kB)\n",
            "Installing collected packages: snuggs, cligj, click-plugins, affine, rasterio\n",
            "Successfully installed affine-2.4.0 click-plugins-1.1.1 cligj-0.7.2 rasterio-1.3.11 snuggs-1.4.7\n"
          ]
        }
      ],
      "source": [
        "!apt-get install -y gdal-bin python-gdal python3-gdal\n",
        "!pip install rasterio\n"
      ]
    },
    {
      "cell_type": "code",
      "execution_count": null,
      "metadata": {
        "colab": {
          "base_uri": "https://localhost:8080/"
        },
        "id": "C5xqETuiiIR0",
        "outputId": "e1b1f379-a07a-45a1-bcce-21fa99d7d8cc"
      },
      "outputs": [
        {
          "output_type": "stream",
          "name": "stdout",
          "text": [
            "Mounted at /content/drive\n"
          ]
        }
      ],
      "source": [
        "from google.colab import drive\n",
        "drive.mount('/content/drive')\n"
      ]
    },
    {
      "cell_type": "code",
      "execution_count": null,
      "metadata": {
        "id": "GO--9QeSqpxI",
        "colab": {
          "base_uri": "https://localhost:8080/"
        },
        "outputId": "ed16df4f-b261-40cf-c781-f4cff89fc562"
      },
      "outputs": [
        {
          "output_type": "stream",
          "name": "stdout",
          "text": [
            "'Colab Notebooks'   insat_data\t SIH1738_cog  'Untitled spreadsheet.gsheet'\n"
          ]
        }
      ],
      "source": [
        "!ls /content/drive/MyDrive/\n"
      ]
    },
    {
      "cell_type": "code",
      "execution_count": null,
      "metadata": {
        "id": "_YkFyId0q80Z"
      },
      "outputs": [],
      "source": [
        "!mkdir -p /content/drive/MyDrive/insat_data\n"
      ]
    },
    {
      "cell_type": "code",
      "execution_count": null,
      "metadata": {
        "colab": {
          "base_uri": "https://localhost:8080/"
        },
        "id": "LwfI1kqhqtkf",
        "outputId": "dc94a6d7-ce5a-49ff-8d71-01c025d8f0ce"
      },
      "outputs": [
        {
          "output_type": "stream",
          "name": "stdout",
          "text": [
            "tar: /content/drive/MyDrive/SIH1738_cog.tar: Cannot open: No such file or directory\n",
            "tar: Error is not recoverable: exiting now\n"
          ]
        }
      ],
      "source": [
        "!tar -xvf /content/drive/MyDrive/SIH1738_cog.tar -C /content/drive/MyDrive/insat_data/\n"
      ]
    },
    {
      "cell_type": "code",
      "execution_count": null,
      "metadata": {
        "colab": {
          "base_uri": "https://localhost:8080/"
        },
        "id": "hYoAy-LEtUAO",
        "outputId": "7b9a7be4-5252-4196-b0f9-4c14d443a703"
      },
      "outputs": [
        {
          "output_type": "stream",
          "name": "stdout",
          "text": [
            "Reading package lists... Done\n",
            "Building dependency tree... Done\n",
            "Reading state information... Done\n",
            "The following additional packages will be installed:\n",
            "  python3-gdal python3-numpy\n",
            "Suggested packages:\n",
            "  libgdal-grass python-numpy-doc python3-pytest\n",
            "The following NEW packages will be installed:\n",
            "  gdal-bin python3-gdal python3-numpy\n",
            "0 upgraded, 3 newly installed, 0 to remove and 49 not upgraded.\n",
            "Need to get 5,055 kB of archives.\n",
            "After this operation, 25.1 MB of additional disk space will be used.\n",
            "Get:1 http://archive.ubuntu.com/ubuntu jammy-updates/main amd64 python3-numpy amd64 1:1.21.5-1ubuntu22.04.1 [3,467 kB]\n",
            "Get:2 https://ppa.launchpadcontent.net/ubuntugis/ppa/ubuntu jammy/main amd64 python3-gdal amd64 3.6.4+dfsg-1~jammy0 [1,027 kB]\n",
            "Get:3 https://ppa.launchpadcontent.net/ubuntugis/ppa/ubuntu jammy/main amd64 gdal-bin amd64 3.6.4+dfsg-1~jammy0 [561 kB]\n",
            "Fetched 5,055 kB in 5s (985 kB/s)\n",
            "Selecting previously unselected package python3-numpy.\n",
            "(Reading database ... 123599 files and directories currently installed.)\n",
            "Preparing to unpack .../python3-numpy_1%3a1.21.5-1ubuntu22.04.1_amd64.deb ...\n",
            "Unpacking python3-numpy (1:1.21.5-1ubuntu22.04.1) ...\n",
            "Selecting previously unselected package python3-gdal.\n",
            "Preparing to unpack .../python3-gdal_3.6.4+dfsg-1~jammy0_amd64.deb ...\n",
            "Unpacking python3-gdal (3.6.4+dfsg-1~jammy0) ...\n",
            "Selecting previously unselected package gdal-bin.\n",
            "Preparing to unpack .../gdal-bin_3.6.4+dfsg-1~jammy0_amd64.deb ...\n",
            "Unpacking gdal-bin (3.6.4+dfsg-1~jammy0) ...\n",
            "Setting up python3-numpy (1:1.21.5-1ubuntu22.04.1) ...\n",
            "Setting up python3-gdal (3.6.4+dfsg-1~jammy0) ...\n",
            "Setting up gdal-bin (3.6.4+dfsg-1~jammy0) ...\n",
            "Processing triggers for man-db (2.10.2-1) ...\n"
          ]
        }
      ],
      "source": [
        "!apt-get install gdal-bin\n",
        "\n"
      ]
    },
    {
      "cell_type": "code",
      "execution_count": null,
      "metadata": {
        "colab": {
          "base_uri": "https://localhost:8080/"
        },
        "id": "sSi9Ve3StYgv",
        "outputId": "49135a97-a237-4f57-f2c7-151c111d411a"
      },
      "outputs": [
        {
          "output_type": "stream",
          "name": "stdout",
          "text": [
            "Requirement already satisfied: gdal in /usr/local/lib/python3.10/dist-packages (3.6.4)\n"
          ]
        }
      ],
      "source": [
        "!pip install gdal\n"
      ]
    },
    {
      "cell_type": "code",
      "execution_count": null,
      "metadata": {
        "id": "iiPsZtM2tdzR",
        "colab": {
          "base_uri": "https://localhost:8080/"
        },
        "outputId": "2d3fddf8-cdc4-4e3b-f19e-e8c93ff1f9b8"
      },
      "outputs": [
        {
          "output_type": "stream",
          "name": "stdout",
          "text": [
            "output.cog\n"
          ]
        }
      ],
      "source": [
        "!ls /content/drive/MyDrive/insat_data/\n"
      ]
    },
    {
      "cell_type": "code",
      "execution_count": null,
      "metadata": {
        "colab": {
          "base_uri": "https://localhost:8080/"
        },
        "id": "x54AhkFTtkf4",
        "outputId": "a50e4d4d-e0e6-4e85-aca6-565e309381c8"
      },
      "outputs": [
        {
          "output_type": "stream",
          "name": "stdout",
          "text": [
            "ERROR 4: /content/drive/MyDrive/insat_data/SIH2024.tif: No such file or directory\n"
          ]
        }
      ],
      "source": [
        "!gdal_translate /content/drive/MyDrive/insat_data/SIH2024.tif /content/drive/MyDrive/insat_data/output_cog.tif -of COG\n",
        "\n"
      ]
    },
    {
      "cell_type": "code",
      "source": [],
      "metadata": {
        "id": "lU8QbiFqZNsl"
      },
      "execution_count": null,
      "outputs": []
    },
    {
      "cell_type": "code",
      "source": [
        "!mkdir -p /content/drive/MyDrive/insat_data/SIH2024"
      ],
      "metadata": {
        "id": "LcSEKVa4Y-Ct"
      },
      "execution_count": null,
      "outputs": []
    },
    {
      "cell_type": "code",
      "source": [
        "!gdal_translate /content/drive/MyDrive/insat_data/SIH2024.tif /content/drive/MyDrive/insat_data/output_cog.tif -of COG\n",
        "\n"
      ],
      "metadata": {
        "colab": {
          "base_uri": "https://localhost:8080/"
        },
        "id": "eve0K-qjZQYQ",
        "outputId": "dfdcc03e-beb1-42f1-933c-91ae7bdea656"
      },
      "execution_count": null,
      "outputs": [
        {
          "output_type": "stream",
          "name": "stdout",
          "text": [
            "ERROR 4: /content/drive/MyDrive/insat_data/SIH2024.tif: No such file or directory\n"
          ]
        }
      ]
    },
    {
      "cell_type": "code",
      "execution_count": null,
      "metadata": {
        "id": "n__QZLZUu-zT",
        "colab": {
          "base_uri": "https://localhost:8080/"
        },
        "outputId": "5c8cd4cc-4a0e-4ade-b6e5-21dee98a0434"
      },
      "outputs": [
        {
          "output_type": "stream",
          "name": "stdout",
          "text": [
            "output.cog  SIH2024\n"
          ]
        }
      ],
      "source": [
        "!ls /content/drive/MyDrive/insat_data/\n"
      ]
    },
    {
      "cell_type": "code",
      "execution_count": null,
      "metadata": {
        "colab": {
          "base_uri": "https://localhost:8080/"
        },
        "id": "SYKfmQNpvBnv",
        "outputId": "266e90f8-5b4d-46ff-cd79-42514eccceb5"
      },
      "outputs": [
        {
          "output_type": "stream",
          "name": "stdout",
          "text": [
            "ERROR 4: `/content/drive/MyDrive/SIH1738_cog/SIH2024' not recognized as a supported file format.\n"
          ]
        }
      ],
      "source": [
        "!gdal_translate /content/drive/MyDrive/SIH1738_cog/SIH2024 /content/drive/MyDrive/insat_data/SIH2024OUTPUT -of COG\n"
      ]
    },
    {
      "cell_type": "code",
      "execution_count": null,
      "metadata": {
        "colab": {
          "base_uri": "https://localhost:8080/",
          "height": 193
        },
        "id": "_5EJ8yUXvyTa",
        "outputId": "f742ab6b-bcfb-4846-cf55-0f0aced4b44d"
      },
      "outputs": [
        {
          "output_type": "error",
          "ename": "FileNotFoundError",
          "evalue": "[Errno 2] No such file or directory: '/content/drive/MyDrive/insat_data/SIH2024OUTPUT/'",
          "traceback": [
            "\u001b[0;31m---------------------------------------------------------------------------\u001b[0m",
            "\u001b[0;31mFileNotFoundError\u001b[0m                         Traceback (most recent call last)",
            "\u001b[0;32m<ipython-input-15-22d10c09aa6f>\u001b[0m in \u001b[0;36m<cell line: 4>\u001b[0;34m()\u001b[0m\n\u001b[1;32m      2\u001b[0m \u001b[0;34m\u001b[0m\u001b[0m\n\u001b[1;32m      3\u001b[0m \u001b[0mdirectory\u001b[0m \u001b[0;34m=\u001b[0m \u001b[0;34m'/content/drive/MyDrive/insat_data/SIH2024OUTPUT/'\u001b[0m\u001b[0;34m\u001b[0m\u001b[0;34m\u001b[0m\u001b[0m\n\u001b[0;32m----> 4\u001b[0;31m \u001b[0mfiles\u001b[0m \u001b[0;34m=\u001b[0m \u001b[0;34m[\u001b[0m\u001b[0mf\u001b[0m \u001b[0;32mfor\u001b[0m \u001b[0mf\u001b[0m \u001b[0;32min\u001b[0m \u001b[0mos\u001b[0m\u001b[0;34m.\u001b[0m\u001b[0mlistdir\u001b[0m\u001b[0;34m(\u001b[0m\u001b[0mdirectory\u001b[0m\u001b[0;34m)\u001b[0m \u001b[0;32mif\u001b[0m \u001b[0mf\u001b[0m\u001b[0;34m.\u001b[0m\u001b[0mendswith\u001b[0m\u001b[0;34m(\u001b[0m\u001b[0;34m'.h5'\u001b[0m\u001b[0;34m)\u001b[0m\u001b[0;34m]\u001b[0m\u001b[0;34m\u001b[0m\u001b[0;34m\u001b[0m\u001b[0m\n\u001b[0m\u001b[1;32m      5\u001b[0m \u001b[0mprint\u001b[0m\u001b[0;34m(\u001b[0m\u001b[0mfiles\u001b[0m\u001b[0;34m)\u001b[0m\u001b[0;34m\u001b[0m\u001b[0;34m\u001b[0m\u001b[0m\n",
            "\u001b[0;31mFileNotFoundError\u001b[0m: [Errno 2] No such file or directory: '/content/drive/MyDrive/insat_data/SIH2024OUTPUT/'"
          ]
        }
      ],
      "source": [
        "import os\n",
        "\n",
        "directory = '/content/drive/MyDrive/insat_data/SIH2024OUTPUT/'\n",
        "files = [f for f in os.listdir(directory) if f.endswith('.h5')]\n",
        "print(files)\n"
      ]
    },
    {
      "cell_type": "code",
      "execution_count": null,
      "metadata": {
        "id": "qFwcv5rpv0XU"
      },
      "outputs": [],
      "source": [
        "!pip install h5py\n",
        "!pip install rasterio"
      ]
    },
    {
      "cell_type": "code",
      "execution_count": null,
      "metadata": {
        "id": "VgkMJ0HuwKV2"
      },
      "outputs": [],
      "source": [
        "import h5py\n",
        "\n",
        "def inspect_datasets(input_hdf5_file):\n",
        "    with h5py.File(input_hdf5_file, 'r') as file:\n",
        "        for dataset_name in file.keys():\n",
        "            dataset = file[dataset_name]\n",
        "            print(f'Dataset: {dataset_name}')\n",
        "            print(f'Shape: {dataset.shape}')\n",
        "            print(f'Dtype: {dataset.dtype}')\n",
        "            print()\n",
        "\n",
        "input_hdf5_file = '/content/drive/MyDrive/SIH1738_cog/SIH2024/3RIMG_04SEP2024_1115_L1C_ASIA_MER_V01R00.h5'\n",
        "inspect_datasets(input_hdf5_file)\n"
      ]
    },
    {
      "cell_type": "code",
      "execution_count": null,
      "metadata": {
        "id": "IfczxCxFxDv4"
      },
      "outputs": [],
      "source": [
        "import h5py\n",
        "\n",
        "def list_hdf5_datasets(file_path):\n",
        "    with h5py.File(file_path, 'r') as file:\n",
        "        print(f\"File: {file_path}\")\n",
        "        def print_dataset(name, obj):\n",
        "            if isinstance(obj, h5py.Dataset):\n",
        "                print(f\"Dataset: {name}\")\n",
        "        file.visititems(print_dataset)\n",
        "\n",
        "# List datasets in all HDF5 files in the directory\n",
        "import os\n",
        "\n",
        "directory = '/content/drive/MyDrive/insat_data/SIH2024OUTPUT/'\n",
        "for file_name in os.listdir(directory):\n",
        "    if file_name.endswith('.h5'):\n",
        "        file_path = os.path.join(directory, file_name)\n",
        "        list_hdf5_datasets(file_path)\n"
      ]
    },
    {
      "cell_type": "code",
      "execution_count": null,
      "metadata": {
        "id": "YGIgEI6dxJrE"
      },
      "outputs": [],
      "source": [
        "def process_hdf5_to_geotiff(input_hdf5_file, output_geotiff_file, dataset_name):\n",
        "    try:\n",
        "        with h5py.File(input_hdf5_file, 'r') as file:\n",
        "            if dataset_name in file:\n",
        "                dataset = file[dataset_name][:]\n",
        "\n",
        "                # Process dataset\n",
        "                if len(dataset.shape) == 1:\n",
        "                    print(f'Skipping 1D dataset: {dataset_name}')\n",
        "                    return\n",
        "\n",
        "                if len(dataset.shape) == 2:\n",
        "                    height, width = dataset.shape\n",
        "                elif len(dataset.shape) == 3:\n",
        "                    height, width = dataset.shape[1:3]\n",
        "                else:\n",
        "                    print(f'Unsupported dataset shape: {dataset.shape}')\n",
        "                    return\n",
        "\n",
        "                transform = from_origin(0, height, 1, 1)\n",
        "                metadata = {\n",
        "                    'driver': 'GTiff',\n",
        "                    'count': 1,\n",
        "                    'dtype': dataset.dtype,\n",
        "                    'height': height,\n",
        "                    'width': width,\n",
        "                    'crs': 'EPSG:4326',\n",
        "                    'transform': transform\n",
        "                }\n",
        "\n",
        "                with rasterio.open(output_geotiff_file, 'w', **metadata) as dst:\n",
        "                    dst.write(dataset[0, :, :], 1)  # Use [0, :, :] to get the single band\n",
        "            else:\n",
        "                print(f'Dataset {dataset_name} not found in {input_hdf5_file}')\n",
        "    except Exception as e:\n",
        "        print(f'Error processing {dataset_name} from {input_hdf5_file}: {e}')\n"
      ]
    },
    {
      "cell_type": "code",
      "execution_count": null,
      "metadata": {
        "id": "I9sBjl9kxvCW"
      },
      "outputs": [],
      "source": [
        "import rasterio\n",
        "\n",
        "def inspect_geotiff(geotiff_file):\n",
        "    with rasterio.open(geotiff_file) as src:\n",
        "        print(f\"Driver: {src.driver}\")\n",
        "        print(f\"Width: {src.width}\")\n",
        "        print(f\"Height: {src.height}\")\n",
        "        print(f\"Count: {src.count}\")\n",
        "        print(f\"CRS: {src.crs}\")\n",
        "        print(f\"Transform: {src.transform}\")\n",
        "        print(f\"Dtype: {src.dtypes[0]}\")\n",
        "\n",
        "# Example usage\n",
        "inspect_geotiff('/path/to/SIH2024OUTPUT.tif')\n"
      ]
    },
    {
      "cell_type": "code",
      "execution_count": null,
      "metadata": {
        "id": "yCsJ-veQx3Yc"
      },
      "outputs": [],
      "source": [
        "import os\n",
        "\n",
        "# Check if the file was created\n",
        "def check_file_creation(file_path):\n",
        "    if os.path.exists(file_path):\n",
        "        print(f\"File successfully created: {file_path}\")\n",
        "    else:\n",
        "        print(f\"File not found: {file_path}\")\n",
        "\n",
        "# Example usage\n",
        "check_file_creation('/path/to/output.tif')\n"
      ]
    },
    {
      "cell_type": "code",
      "execution_count": null,
      "metadata": {
        "id": "flWUFRHDx-c_"
      },
      "outputs": [],
      "source": [
        "import os\n",
        "\n",
        "output_dir = '/path/to/output/directory'\n",
        "if not os.path.exists(output_dir):\n",
        "    os.makedirs(output_dir)\n"
      ]
    },
    {
      "cell_type": "code",
      "execution_count": null,
      "metadata": {
        "id": "tsHAd840x_dy"
      },
      "outputs": [],
      "source": [
        "output_geotiff_file = '/path/to/output/directory/output.tif'\n"
      ]
    },
    {
      "cell_type": "code",
      "execution_count": null,
      "metadata": {
        "id": "4ECdUrd3yC1p"
      },
      "outputs": [],
      "source": [
        "input_hdf5_file = '/content/drive/MyDrive/insat_data/SIH2024/3RIMG_04SEP2024_1015_L1B_STD_V01R00.h5'\n",
        "dataset_name = 'your_dataset_name'  # Replace with actual dataset name\n",
        "output_geotiff_file = '/path/to/output/directory/output.tif'\n",
        "\n",
        "process_hdf5_to_geotiff(input_hdf5_file, output_geotiff_file, dataset_name)\n"
      ]
    },
    {
      "cell_type": "code",
      "execution_count": null,
      "metadata": {
        "id": "ILRzK0BuyXLS"
      },
      "outputs": [],
      "source": [
        "import h5py\n",
        "\n",
        "with h5py.File(input_hdf5_file, 'r') as file:\n",
        "    for key in file.keys():\n",
        "        print(key)\n"
      ]
    },
    {
      "cell_type": "code",
      "execution_count": null,
      "metadata": {
        "id": "kHe72pQuyeY8"
      },
      "outputs": [],
      "source": [
        "import os\n",
        "\n",
        "input_hdf5_file = '/content/drive/MyDrive/insat_data/SIH2024/3RIMG_04SEP2024_1015_L1B_STD_V01R00.h5'\n",
        "\n",
        "if not os.path.isfile(input_hdf5_file):\n",
        "    print(f\"File not found: {input_hdf5_file}\")\n",
        "else:\n",
        "    print(f\"File exists: {input_hdf5_file}\")\n"
      ]
    },
    {
      "cell_type": "code",
      "execution_count": null,
      "metadata": {
        "id": "ZuNPQVujylmV"
      },
      "outputs": [],
      "source": [
        "import h5py\n",
        "\n",
        "input_hdf5_file = '/content/drive/MyDrive/insat_data/SIH2024/3RIMG_04SEP2024_1015_L1B_STD_V01R00.h5'\n",
        "\n",
        "try:\n",
        "    with h5py.File(input_hdf5_file, 'r') as file:\n",
        "        print(\"HDF5 file opened successfully\")\n",
        "        # Print all available datasets in the file\n",
        "        for key in file.keys():\n",
        "            print(f\"Dataset name: {key}\")\n",
        "except Exception as e:\n",
        "    print(f\"Error opening file: {e}\")\n"
      ]
    },
    {
      "cell_type": "code",
      "execution_count": null,
      "metadata": {
        "id": "XTfnJHlByqMk"
      },
      "outputs": [],
      "source": [
        "import os\n",
        "\n",
        "output_directory = '/content/drive/MyDrive/insat_data/SIH2024/output_directory/'\n",
        "output_geotiff_file = os.path.join(output_directory, 'output.tif')\n",
        "\n",
        "if not os.path.exists(output_directory):\n",
        "    os.makedirs(output_directory)\n",
        "\n",
        "process_hdf5_to_geotiff(input_hdf5_file, output_geotiff_file, dataset_name)\n"
      ]
    },
    {
      "cell_type": "code",
      "execution_count": null,
      "metadata": {
        "id": "J05M3S7tyun4"
      },
      "outputs": [],
      "source": [
        "import h5py\n",
        "import rasterio\n",
        "from rasterio.transform import from_origin\n",
        "\n",
        "def process_hdf5_to_geotiff(input_hdf5_file, output_geotiff_file, dataset_name):\n",
        "    try:\n",
        "        with h5py.File(input_hdf5_file, 'r') as file:\n",
        "            if dataset_name in file:\n",
        "                dataset = file[dataset_name][:]\n",
        "\n",
        "                # Process dataset\n",
        "                if len(dataset.shape) == 1:\n",
        "                    print(f'Skipping 1D dataset: {dataset_name}')\n",
        "                    return\n",
        "\n",
        "                if len(dataset.shape) == 2:\n",
        "                    height, width = dataset.shape\n",
        "                elif len(dataset.shape) == 3:\n",
        "                    height, width = dataset.shape[1:3]\n",
        "                else:\n",
        "                    print(f'Unsupported dataset shape: {dataset.shape}')\n",
        "                    return\n",
        "\n",
        "                transform = from_origin(0, height, 1, 1)\n",
        "                metadata = {\n",
        "                    'driver': 'GTiff',\n",
        "                    'count': 1,\n",
        "                    'dtype': dataset.dtype,\n",
        "                    'height': height,\n",
        "                    'width': width,\n",
        "                    'crs': 'EPSG:4326',\n",
        "                    'transform': transform\n",
        "                }\n",
        "\n",
        "                with rasterio.open(output_geotiff_file, 'w', **metadata) as dst:\n",
        "                    dst.write(dataset[0, :, :], 1)  # Use [0, :, :] to get the single band\n",
        "\n",
        "                print(f'GeoTIFF created at {output_geotiff_file}')\n",
        "            else:\n",
        "                print(f'Dataset {dataset_name} not found in {input_hdf5_file}')\n",
        "    except Exception as e:\n",
        "        print(f'Error processing {dataset_name} from {input_hdf5_file}: {e}')\n",
        "\n",
        "# Define paths and dataset name\n",
        "input_hdf5_file = '/content/drive/MyDrive/insat_data/SIH2024/3RIMG_04SEP2024_1015_L1B_STD_V01R00.h5'\n",
        "dataset_name = 'your_dataset_name'  # Replace with actual dataset name\n",
        "output_directory = '/content/drive/MyDrive/insat_data/SIH2024/output_directory/'\n",
        "output_geotiff_file = os.path.join(output_directory, 'output.tif')\n",
        "\n",
        "# Ensure output directory exists\n",
        "if not os.path.exists(output_directory):\n",
        "    os.makedirs(output_directory)\n",
        "\n",
        "process_hdf5_to_geotiff(input_hdf5_file, output_geotiff_file, dataset_name)\n"
      ]
    },
    {
      "cell_type": "code",
      "execution_count": null,
      "metadata": {
        "id": "icUoJwt_y6L4"
      },
      "outputs": [],
      "source": [
        "import h5py\n",
        "\n",
        "input_hdf5_file = '/content/drive/MyDrive/insat_data/SIH2024/3RIMG_04SEP2024_1015_L1B_STD_V01R00.h5'\n",
        "\n",
        "try:\n",
        "    with h5py.File(input_hdf5_file, 'r') as file:\n",
        "        # List all datasets in the file\n",
        "        def printname(name):\n",
        "            print(name)\n",
        "\n",
        "        file.visit(printname)  # This will print all dataset names\n",
        "except Exception as e:\n",
        "    print(f\"Error opening file: {e}\")\n"
      ]
    },
    {
      "cell_type": "code",
      "execution_count": null,
      "metadata": {
        "id": "HhN9g8ohzExa"
      },
      "outputs": [],
      "source": [
        "import h5py\n",
        "import rasterio\n",
        "from rasterio.transform import from_origin\n",
        "import os\n",
        "\n",
        "def process_hdf5_to_geotiff(input_hdf5_file, output_geotiff_file, dataset_name):\n",
        "    try:\n",
        "        with h5py.File(input_hdf5_file, 'r') as file:\n",
        "            if dataset_name in file:\n",
        "                dataset = file[dataset_name][:]\n",
        "\n",
        "                # Process dataset\n",
        "                if len(dataset.shape) == 1:\n",
        "                    print(f'Skipping 1D dataset: {dataset_name}')\n",
        "                    return\n",
        "\n",
        "                if len(dataset.shape) == 2:\n",
        "                    height, width = dataset.shape\n",
        "                elif len(dataset.shape) == 3:\n",
        "                    height, width = dataset.shape[1:3]\n",
        "                else:\n",
        "                    print(f'Unsupported dataset shape: {dataset.shape}')\n",
        "                    return\n",
        "\n",
        "                transform = from_origin(0, height, 1, 1)\n",
        "                metadata = {\n",
        "                    'driver': 'GTiff',\n",
        "                    'count': 1,\n",
        "                    'dtype': dataset.dtype,\n",
        "                    'height': height,\n",
        "                    'width': width,\n",
        "                    'crs': 'EPSG:4326',\n",
        "                    'transform': transform\n",
        "                }\n",
        "\n",
        "                with rasterio.open(output_geotiff_file, 'w', **metadata) as dst:\n",
        "                    if len(dataset.shape) == 3:  # Handle 3D datasets\n",
        "                        dst.write(dataset[0, :, :], 1)  # Use the first band\n",
        "                    else:\n",
        "                        dst.write(dataset, 1)  # Write 2D dataset directly\n",
        "\n",
        "                print(f'GeoTIFF created at {output_geotiff_file}')\n",
        "            else:\n",
        "                print(f'Dataset {dataset_name} not found in {input_hdf5_file}')\n",
        "    except Exception as e:\n",
        "        print(f'Error processing {dataset_name} from {input_hdf5_file}: {e}')\n",
        "\n",
        "# Define paths and dataset name\n",
        "input_hdf5_file = '/content/drive/MyDrive/insat_data/SIH2024/3RIMG_04SEP2024_1015_L1B_STD_V01R00.h5'\n",
        "dataset_name = 'IMG_MIR'  # Replace with your chosen dataset name\n",
        "output_directory = '/content/drive/MyDrive/insat_data/SIH2024/output_directory/'\n",
        "output_geotiff_file = os.path.join(output_directory, 'output.tif')\n",
        "\n",
        "# Ensure output directory exists\n",
        "if not os.path.exists(output_directory):\n",
        "    os.makedirs(output_directory)\n",
        "\n",
        "process_hdf5_to_geotiff(input_hdf5_file, output_geotiff_file, dataset_name)\n"
      ]
    },
    {
      "cell_type": "code",
      "execution_count": null,
      "metadata": {
        "id": "5KrHM1bYzWGY"
      },
      "outputs": [],
      "source": [
        "def convert_all_datasets(input_hdf5_file, output_directory):\n",
        "    try:\n",
        "        with h5py.File(input_hdf5_file, 'r') as file:\n",
        "            for dataset_name in file:\n",
        "                output_geotiff_file = f'{output_directory}/{dataset_name}.tif'\n",
        "                process_hdf5_to_geotiff(input_hdf5_file, output_geotiff_file, dataset_name)\n",
        "                print(f'Converted {dataset_name} to GeoTIFF')\n",
        "    except Exception as e:\n",
        "        print(f'Error converting datasets: {e}')\n",
        "\n",
        "# Example usage\n",
        "convert_all_datasets('/content/drive/MyDrive/insat_data/SIH2024/3RIMG_04SEP2024_1015_L1B_STD_V01R00.h5', '/content/drive/MyDrive/insat_data/SIH2024/output_directory')\n"
      ]
    },
    {
      "cell_type": "code",
      "execution_count": null,
      "metadata": {
        "id": "fMatP7x_yRIf"
      },
      "outputs": [],
      "source": [
        "output_geotiff_file = '/content/drive/MyDrive/insat_data/SIH2024/output.tif'\n"
      ]
    },
    {
      "cell_type": "code",
      "execution_count": null,
      "metadata": {
        "id": "nlNfTqO-0RA4"
      },
      "outputs": [],
      "source": [
        "!pip install rasterio\n",
        "!pip install matplotlib\n"
      ]
    },
    {
      "cell_type": "code",
      "execution_count": null,
      "metadata": {
        "id": "__6a4nOv0Tuj"
      },
      "outputs": [],
      "source": [
        "import rasterio\n",
        "\n",
        "def inspect_geotiff(file_path):\n",
        "    with rasterio.open(file_path) as src:\n",
        "        print(\"Metadata:\")\n",
        "        print(src.meta)\n",
        "        print(\"\\nBands:\")\n",
        "        for band in src.indexes:\n",
        "            print(f\"Band {band}:\")\n",
        "            print(f\" - Data type: {src.dtypes[band-1]}\")\n",
        "            print(f\" - Shape: {src.shape}\")\n",
        "            print(f\" - CRS: {src.crs}\")\n",
        "            print(f\" - Transform: {src.transform}\")\n",
        "\n",
        "# Replace with your GeoTIFF file path\n",
        "geotiff_file_path = '/content/drive/MyDrive/insat_data/SIH2024/output_directory/output.tif'\n",
        "inspect_geotiff(geotiff_file_path)\n"
      ]
    },
    {
      "cell_type": "code",
      "execution_count": null,
      "metadata": {
        "id": "RgxpG8Mp0bXs"
      },
      "outputs": [],
      "source": [
        "import matplotlib.pyplot as plt\n",
        "import rasterio\n",
        "from rasterio.plot import show\n",
        "\n",
        "def plot_geotiff(file_path):\n",
        "    with rasterio.open(file_path) as src:\n",
        "        plt.figure(figsize=(10, 10))\n",
        "        show(src, cmap='gray')\n",
        "        plt.title('GeoTIFF Visualization')\n",
        "        plt.xlabel('Longitude')\n",
        "        plt.ylabel('Latitude')\n",
        "        plt.show()\n",
        "geotiff_file_path='/content/drive/MyDrive/insat_data/SIH2024/output_directory/IMG_MIR.tif'\n",
        "plot_geotiff(geotiff_file_path)\n"
      ]
    },
    {
      "cell_type": "code",
      "execution_count": null,
      "metadata": {
        "id": "te1o0sOd1FQ2"
      },
      "outputs": [],
      "source": [
        "import matplotlib.pyplot as plt\n",
        "import rasterio\n",
        "from rasterio.plot import show\n",
        "\n",
        "def plot_geotiff(file_path):\n",
        "    with rasterio.open(file_path) as src:\n",
        "        plt.figure(figsize=(10, 10))\n",
        "        show(src, cmap='gray')  # You can change cmap based on data type\n",
        "        plt.title('IMG_MIR GeoTIFF Visualization')\n",
        "        plt.xlabel('Longitude')\n",
        "        plt.ylabel('Latitude')\n",
        "        plt.show()\n",
        "\n",
        "# Path to the GeoTIFF file\n",
        "plot_geotiff(geotiff_file_path)\n"
      ]
    },
    {
      "cell_type": "code",
      "execution_count": null,
      "metadata": {
        "id": "tbDkswie1PcZ"
      },
      "outputs": [],
      "source": [
        "def read_partial_geotiff(file_path, window):\n",
        "    with rasterio.open(file_path) as src:\n",
        "        data = src.read(1, window=window)  # Read data from the specified window\n",
        "        transform = src.window_transform(window)  # Get the transform for the window\n",
        "    return data, transform\n",
        "\n",
        "# Example usage\n",
        "from rasterio.windows import Window\n",
        "\n",
        "# Define a window (e.g., xoff, yoff, width, height)\n",
        "window = Window(100, 100, 256, 256)\n",
        "data, transform = read_partial_geotiff(geotiff_file_path, window)\n",
        "\n",
        "# Plot the partial data\n",
        "plt.figure(figsize=(10, 10))\n",
        "plt.imshow(data, cmap='gray')\n",
        "plt.title('Partial View of IMG_MIR GeoTIFF')\n",
        "plt.xlabel('Pixel X')\n",
        "plt.ylabel('Pixel Y')\n",
        "plt.show()\n"
      ]
    },
    {
      "cell_type": "code",
      "execution_count": null,
      "metadata": {
        "id": "QMrWNvsI1Uim"
      },
      "outputs": [],
      "source": [
        "def manipulate_geotiff(file_path, scale_factor=1.0, offset=0.0):\n",
        "    with rasterio.open(file_path) as src:\n",
        "        data = src.read(1)  # Read the entire band\n",
        "        data = data * scale_factor + offset  # Apply scale and offset\n",
        "\n",
        "    plt.figure(figsize=(10, 10))\n",
        "    plt.imshow(data, cmap='gray')\n",
        "    plt.title(f'Manipulated View of IMG_MIR GeoTIFF (Scale: {scale_factor}, Offset: {offset})')\n",
        "    plt.xlabel('Pixel X')\n",
        "    plt.ylabel('Pixel Y')\n",
        "    plt.show()\n",
        "\n",
        "# Example usage\n",
        "manipulate_geotiff(geotiff_file_path, scale_factor=1.5, offset=10)\n"
      ]
    },
    {
      "cell_type": "code",
      "execution_count": null,
      "metadata": {
        "id": "BEiGv3g31qED"
      },
      "outputs": [],
      "source": [
        "!pip install rasterio numpy matplotlib pillow\n"
      ]
    },
    {
      "cell_type": "code",
      "execution_count": null,
      "metadata": {
        "id": "sxsZmyn41tgo"
      },
      "outputs": [],
      "source": [
        "import rasterio\n",
        "import numpy as np\n",
        "import matplotlib.pyplot as plt\n",
        "from PIL import Image\n",
        "\n",
        "# Define file path\n",
        "tiff_file_path = '/content/drive/MyDrive/insat_data/SIH2024/output_directory/IMG_MIR.tif'\n",
        "\n",
        "# Open the GeoTIFF file\n",
        "with rasterio.open(tiff_file_path) as src:\n",
        "    # Read the data\n",
        "    data = src.read(1)  # Read the first band\n",
        "    # Get metadata\n",
        "    metadata = src.meta\n",
        "    # Get affine transform and CRS\n",
        "    transform = src.transform\n",
        "    crs = src.crs\n",
        "\n",
        "# Display metadata\n",
        "print(f'Metadata: {metadata}')\n",
        "print(f'CRS: {crs}')\n"
      ]
    },
    {
      "cell_type": "code",
      "execution_count": null,
      "metadata": {
        "id": "rhWqsCjK1vas"
      },
      "outputs": [],
      "source": [
        "# Display the GeoTIFF image\n",
        "plt.imshow(data, cmap='gray')\n",
        "plt.colorbar()\n",
        "plt.title('GeoTIFF Image')\n",
        "plt.show()\n"
      ]
    },
    {
      "cell_type": "code",
      "execution_count": null,
      "metadata": {
        "id": "3UfzDQzg1zQI"
      },
      "outputs": [],
      "source": [
        "# Apply a basic transformation (e.g., normalize)\n",
        "normalized_data = (data - np.min(data)) / (np.max(data) - np.min(data))\n",
        "\n",
        "# Save the manipulated image\n",
        "output_path = '/content/drive/MyDrive/insat_data/SIH2024/output_directory/IMG_MIR_normalized.tif'\n",
        "with rasterio.open(\n",
        "    output_path, 'w', driver='GTiff', height=normalized_data.shape[0], width=normalized_data.shape[1],\n",
        "    count=1, dtype='float32', crs=crs, transform=transform\n",
        ") as dst:\n",
        "    dst.write(normalized_data, 1)\n",
        "\n",
        "# Display the manipulated image\n",
        "plt.imshow(normalized_data, cmap='gray')\n",
        "plt.colorbar()\n",
        "plt.title('Normalized GeoTIFF Image')\n",
        "plt.show()\n"
      ]
    },
    {
      "cell_type": "code",
      "execution_count": null,
      "metadata": {
        "id": "WsQD56F019Lp"
      },
      "outputs": [],
      "source": [
        "!pip install ipywidgets\n"
      ]
    },
    {
      "cell_type": "code",
      "execution_count": null,
      "metadata": {
        "id": "09wV6N-X2Ab9"
      },
      "outputs": [],
      "source": [
        "import rasterio\n",
        "import numpy as np\n",
        "import matplotlib.pyplot as plt\n",
        "import ipywidgets as widgets\n",
        "from ipywidgets import interact, interactive, fixed, interact_manual\n",
        "from PIL import Image\n"
      ]
    },
    {
      "cell_type": "code",
      "execution_count": null,
      "metadata": {
        "id": "yZ7sGEvG2D_o"
      },
      "outputs": [],
      "source": [
        "def load_geotiff(file_path):\n",
        "    with rasterio.open(file_path) as src:\n",
        "        data = src.read(1)  # Read the first band\n",
        "        transform = src.transform\n",
        "        crs = src.crs\n",
        "    return data, transform, crs\n"
      ]
    },
    {
      "cell_type": "code",
      "execution_count": null,
      "metadata": {
        "id": "R8MGVFts2KU3"
      },
      "outputs": [],
      "source": [
        "def band_arithmetic(file_path1, file_path2, operation='add'):\n",
        "    data1, _, _ = load_geotiff(file_path1)\n",
        "    data2, _, _ = load_geotiff(file_path2)\n",
        "\n",
        "    if operation == 'add':\n",
        "        result = data1 + data2\n",
        "    elif operation == 'subtract':\n",
        "        result = data1 - data2\n",
        "    elif operation == 'multiply':\n",
        "        result = data1 * data2\n",
        "    elif operation == 'divide':\n",
        "        result = np.divide(data1, data2, out=np.zeros_like(data1), where=data2!=0)\n",
        "    else:\n",
        "        raise ValueError(\"Operation not supported\")\n",
        "\n",
        "    return result\n"
      ]
    },
    {
      "cell_type": "code",
      "execution_count": null,
      "metadata": {
        "id": "A5Pecn1o2Nwv"
      },
      "outputs": [],
      "source": [
        "def apply_color_adjustment(file_path, brightness=1.0, contrast=1.0):\n",
        "    data, transform, crs = load_geotiff(file_path)\n",
        "    adjusted_data = (data - np.mean(data)) * contrast + np.mean(data) * brightness\n",
        "    adjusted_data = np.clip(adjusted_data, 0, 255)  # Ensure values are within valid range\n",
        "\n",
        "    return adjusted_data\n"
      ]
    },
    {
      "cell_type": "code",
      "execution_count": null,
      "metadata": {
        "id": "SXN1tApS2RZt"
      },
      "outputs": [],
      "source": [
        "def interactive_band_arithmetic(file_path1, file_path2):\n",
        "    operation = widgets.Dropdown(\n",
        "        options=['add', 'subtract', 'multiply', 'divide'],\n",
        "        value='add',\n",
        "        description='Operation:',\n",
        "    )\n",
        "\n",
        "    @interact(operation=operation)\n",
        "    def display_band_arithmetic(operation):\n",
        "        result = band_arithmetic(file_path1, file_path2, operation)\n",
        "        plt.imshow(result, cmap='gray')\n",
        "        plt.colorbar()\n",
        "        plt.title(f'Band Arithmetic - {operation}')\n",
        "        plt.show()\n",
        "\n",
        "# Example usage:\n",
        "file_path1 = '/content/drive/MyDrive/insat_data/SIH2024/output_directory/IMG_MIR.tif'\n",
        "file_path2 = '/content/drive/MyDrive/insat_data/SIH2024/output_directory/IMG_TIR1.tif'\n",
        "interactive_band_arithmetic(file_path1, file_path2)\n"
      ]
    },
    {
      "cell_type": "code",
      "execution_count": null,
      "metadata": {
        "id": "xzj4rm_d2Uct"
      },
      "outputs": [],
      "source": [
        "def interactive_color_adjustment(file_path):\n",
        "    brightness = widgets.FloatSlider(\n",
        "        value=1.0,\n",
        "        min=0.0,\n",
        "        max=2.0,\n",
        "        step=0.1,\n",
        "        description='Brightness:',\n",
        "    )\n",
        "\n",
        "    contrast = widgets.FloatSlider(\n",
        "        value=1.0,\n",
        "        min=0.0,\n",
        "        max=2.0,\n",
        "        step=0.1,\n",
        "        description='Contrast:',\n",
        "    )\n",
        "\n",
        "    @interact(brightness=brightness, contrast=contrast)\n",
        "    def display_color_adjustment(brightness, contrast):\n",
        "        adjusted_data = apply_color_adjustment(file_path, brightness, contrast)\n",
        "        plt.imshow(adjusted_data, cmap='gray')\n",
        "        plt.colorbar()\n",
        "        plt.title('Color Adjusted GeoTIFF Image')\n",
        "        plt.show()\n",
        "\n",
        "# Example usage:\n",
        "file_path = '/content/drive/MyDrive/insat_data/SIH2024/output_directory/IMG_MIR.tif'\n",
        "interactive_color_adjustment(file_path)\n"
      ]
    },
    {
      "cell_type": "code",
      "execution_count": null,
      "metadata": {
        "id": "i77Xw73Y2pJA"
      },
      "outputs": [],
      "source": [
        "!pip install streamlit pyngrok\n"
      ]
    },
    {
      "cell_type": "code",
      "execution_count": null,
      "metadata": {
        "id": "t990QyVL29gz"
      },
      "outputs": [],
      "source": [
        "%%writefile app.py\n",
        "import streamlit as st\n",
        "import rasterio\n",
        "import numpy as np\n",
        "import matplotlib.pyplot as plt\n",
        "from rasterio.plot import show\n",
        "\n",
        "def load_geotiff(file_path):\n",
        "    with rasterio.open(file_path) as src:\n",
        "        img = src.read(1)  # Read the first band\n",
        "        meta = src.meta\n",
        "    return img, meta\n",
        "\n",
        "def show_image(image):\n",
        "    fig, ax = plt.subplots()\n",
        "    ax.imshow(image, cmap='gray')\n",
        "    st.pyplot(fig)\n",
        "\n",
        "def main():\n",
        "    st.title(\"GeoTIFF Viewer and Manipulation\")\n",
        "\n",
        "    file_path = st.text_input(\"Enter the path to your GeoTIFF file\", \"/path/to/your/file.tif\")\n",
        "\n",
        "    if file_path:\n",
        "        img, meta = load_geotiff(file_path)\n",
        "\n",
        "        st.write(\"### Image Data\")\n",
        "        st.write(f\"Shape: {img.shape}\")\n",
        "        st.write(f\"Metadata: {meta}\")\n",
        "\n",
        "        st.write(\"### Image Preview\")\n",
        "        show_image(img)\n",
        "\n",
        "        # Additional manipulations can be added here\n",
        "        # e.g., adjusting brightness, applying filters, etc.\n",
        "\n",
        "    else:\n",
        "        st.write(\"Please enter a valid file path.\")\n",
        "\n",
        "if __name__ == \"__main__\":\n",
        "    main()\n"
      ]
    },
    {
      "cell_type": "code",
      "execution_count": null,
      "metadata": {
        "id": "GxF2M0ne6K-G"
      },
      "outputs": [],
      "source": [
        "!pip install --upgrade pyngrok\n"
      ]
    },
    {
      "cell_type": "code",
      "execution_count": null,
      "metadata": {
        "id": "-nDMo9cL8Drt"
      },
      "outputs": [],
      "source": [
        "!streamlit run /content/app.py\n"
      ]
    },
    {
      "cell_type": "code",
      "execution_count": null,
      "metadata": {
        "id": "VI6EBhQb-bRk"
      },
      "outputs": [],
      "source": []
    },
    {
      "cell_type": "code",
      "execution_count": null,
      "metadata": {
        "id": "qJsXkVZV8HXj"
      },
      "outputs": [],
      "source": [
        "\n",
        "\n",
        "from pyngrok import ngrok\n",
        "\n",
        "\n",
        "# Set your ngrok authtoken\n",
        "ngrok.set_auth_token('YOUR KEY')\n",
        "\n",
        "# Start a new ngrok tunnel\n",
        "public_url = ngrok.connect(8501, \"http\")\n",
        "print('Streamlit app is live at:', public_url)\n"
      ]
    },
    {
      "cell_type": "code",
      "execution_count": null,
      "metadata": {
        "id": "Ke-iHpmf-MDP"
      },
      "outputs": [],
      "source": [
        "!apt-get install git\n"
      ]
    },
    {
      "cell_type": "code",
      "execution_count": null,
      "metadata": {
        "id": "S9s1jK19-cCs"
      },
      "outputs": [],
      "source": [
        "!git config --global user.name \"prashantxy\"\n",
        "!git config --global user.email \"pdubey1924@gmail.com\"\n"
      ]
    },
    {
      "cell_type": "code",
      "execution_count": null,
      "metadata": {
        "id": "G3RrE0Il-ur6"
      },
      "outputs": [],
      "source": [
        "!git clone https://github.com/prashantxy/INSAT.git\n"
      ]
    }
  ],
  "metadata": {
    "colab": {
      "provenance": []
    },
    "kernelspec": {
      "display_name": "Python 3",
      "name": "python3"
    },
    "language_info": {
      "name": "python"
    }
  },
  "nbformat": 4,
  "nbformat_minor": 0
}